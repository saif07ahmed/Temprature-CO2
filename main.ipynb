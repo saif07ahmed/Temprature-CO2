{
 "cells": [
  {
   "cell_type": "code",
   "execution_count": 4,
   "metadata": {},
   "outputs": [],
   "source": [
    "import numpy as np\n",
    "import pandas as pd\n",
    "import matplotlib.pyplot as plt\n",
    "import cv2"
   ]
  },
  {
   "cell_type": "code",
   "execution_count": 5,
   "metadata": {},
   "outputs": [
    {
     "name": "stderr",
     "output_type": "stream",
     "text": [
      "C:\\Users\\sali\\AppData\\Local\\Temp\\ipykernel_21180\\4001666215.py:1: DtypeWarning: Columns (2) have mixed types. Specify dtype option on import or set low_memory=False.\n",
      "  temp_data=pd.read_csv('./Saif/city_temperature.csv')\n"
     ]
    }
   ],
   "source": [
    "temp_data=pd.read_csv('./Saif/city_temperature.csv')"
   ]
  },
  {
   "cell_type": "code",
   "execution_count": 38,
   "metadata": {},
   "outputs": [],
   "source": [
    "city_temps = temp_data.groupby([\"City\",\"Year\",\"Month\"])[\"AvgTemperature\"].mean()"
   ]
  },
  {
   "cell_type": "code",
   "execution_count": 13,
   "metadata": {},
   "outputs": [],
   "source": [
    "def getYearWise(city):\n",
    "    city_year=temp_data.groupby([\"City\",\"Year\"])[\"AvgTemperature\"].mean()\n",
    "    return city_year[city]\n",
    "\n",
    "def getMonthWise(city,year):\n",
    "    city_year=temp_data.groupby([\"City\",\"Year\",\"Month\"])[\"AvgTemperature\"].mean()\n",
    "    return city_year[city][year]\n",
    "\n",
    "\n"
   ]
  },
  {
   "cell_type": "code",
   "execution_count": 14,
   "metadata": {},
   "outputs": [
    {
     "data": {
      "text/plain": [
       "Month\n",
       "1     79.916129\n",
       "2     82.614286\n",
       "3     82.545161\n",
       "4     83.320000\n",
       "5     82.403226\n",
       "6     80.796667\n",
       "7     78.500000\n",
       "8     71.835484\n",
       "9     77.263333\n",
       "10    79.235484\n",
       "11    81.853333\n",
       "12    81.080645\n",
       "Name: AvgTemperature, dtype: float64"
      ]
     },
     "execution_count": 14,
     "metadata": {},
     "output_type": "execute_result"
    }
   ],
   "source": [
    "sample=(getMonthWise('Abidjan',1995))\n",
    "sample"
   ]
  },
  {
   "cell_type": "code",
   "execution_count": 15,
   "metadata": {},
   "outputs": [],
   "source": [
    "def plotMonthWise(sample):\n",
    "    sample.plot.bar()\n",
    "    # Set the title and axis labels\n",
    "    plt.title('Average Temperatures over Months For the Year',)\n",
    "    plt.xlabel('Months')\n",
    "    plt.ylabel('Temperature (°F)')\n",
    "    # Show the plot\n",
    "    plt.show()\n"
   ]
  },
  {
   "cell_type": "code",
   "execution_count": 19,
   "metadata": {},
   "outputs": [],
   "source": [
    "def plotYearWise(sample):\n",
    "    fig, ax = plt.subplots()\n",
    "    sample.bar(ax=ax)\n",
    "    # Set the title and axis labels\n",
    "    plt.title('Average Temperatures Over the Years')\n",
    "    plt.xlabel('Years')\n",
    "    plt.ylabel('Temperature (°F)')\n",
    "    # Show the plot\n",
    "    st.pyplot(fig)"
   ]
  },
  {
   "cell_type": "code",
   "execution_count": 53,
   "metadata": {},
   "outputs": [
    {
     "data": {
      "text/plain": [
       "[1995,\n",
       " 1996,\n",
       " 1997,\n",
       " 1998,\n",
       " 1999,\n",
       " 2000,\n",
       " 2001,\n",
       " 2002,\n",
       " 2003,\n",
       " 2004,\n",
       " 2005,\n",
       " 2006,\n",
       " 2007,\n",
       " 2008,\n",
       " 2009,\n",
       " 2010,\n",
       " 2011,\n",
       " 2012,\n",
       " 2013,\n",
       " 2014,\n",
       " 2015,\n",
       " 2016,\n",
       " 2017,\n",
       " 2018,\n",
       " 2019,\n",
       " 2020]"
      ]
     },
     "execution_count": 53,
     "metadata": {},
     "output_type": "execute_result"
    }
   ],
   "source": [
    "sample=(getYearWise('Abidjan'))\n",
    "x=list(sample.index)\n"
   ]
  },
  {
   "cell_type": "code",
   "execution_count": 51,
   "metadata": {},
   "outputs": [
    {
     "data": {
      "text/plain": [
       "[1995,\n",
       " 1996,\n",
       " 1997,\n",
       " 1998,\n",
       " 1999,\n",
       " 2000,\n",
       " 2001,\n",
       " 2002,\n",
       " 2003,\n",
       " 2004,\n",
       " 2005,\n",
       " 2006,\n",
       " 2007,\n",
       " 2008,\n",
       " 2009,\n",
       " 2010,\n",
       " 2011,\n",
       " 2012,\n",
       " 2013,\n",
       " 2014,\n",
       " 2015,\n",
       " 2016,\n",
       " 2017,\n",
       " 2018,\n",
       " 2019,\n",
       " 2020]"
      ]
     },
     "execution_count": 51,
     "metadata": {},
     "output_type": "execute_result"
    }
   ],
   "source": [
    "x=list(x)\n",
    "x"
   ]
  },
  {
   "cell_type": "code",
   "execution_count": 11,
   "metadata": {},
   "outputs": [
    {
     "data": {
      "text/plain": [
       "array(['Algiers', 'Bujumbura', 'Cotonou', 'Bangui', 'Brazzaville',\n",
       "       'Cairo', 'Addis Ababa', 'Libreville', 'Banjul', 'Conakry',\n",
       "       'Bissau', 'Abidjan', 'Nairobi', 'Rabat', 'Antananarivo',\n",
       "       'Nouakchott', 'Lilongwe', 'Maputo', 'Windhoek', 'Niamey', 'Lagos',\n",
       "       'Dakar', 'Freetown', 'Capetown', 'Lome', 'Tunis', 'Dar Es Salaam',\n",
       "       'Kampala', 'Lusaka', 'Dhaka', 'Beijing', 'Chengdu', 'Guangzhou',\n",
       "       'Shanghai', 'Shenyang', 'Hong Kong', 'Bombay (Mumbai)', 'Calcutta',\n",
       "       'Chennai (Madras)', 'Delhi', 'Jakarta', 'Osaka', 'Sapporo',\n",
       "       'Tokyo', 'Almaty', 'Bishkek', 'Vientiane', 'Kuala Lumpur',\n",
       "       'Ulan-bator', 'Rangoon', 'Katmandu', 'Pyongyang', 'Islamabad',\n",
       "       'Karachi', 'Manila', 'Singapore', 'Seoul', 'Colombo', 'Taipei',\n",
       "       'Dusanbe', 'Bangkok', 'Ashabad', 'Tashkent', 'Hanoi', 'Brisbane',\n",
       "       'Canberra', 'Melbourne', 'Perth', 'Sydney', 'Auckland', 'Tirana',\n",
       "       'Vienna', 'Minsk', 'Brussels', 'Sofia', 'Zagreb', 'Nicosia',\n",
       "       'Prague', 'Copenhagen', 'Helsinki', 'Paris', 'Bordeaux', 'Bonn',\n",
       "       'Frankfurt', 'Hamburg', 'Munich', 'Tbilisi', 'Athens', 'Budapest',\n",
       "       'Reykjavik', 'Dublin', 'Milan', 'Rome', 'Riga', 'Skopje',\n",
       "       'Amsterdam', 'Oslo', 'Warsaw', 'Lisbon', 'Bucharest', 'Moscow',\n",
       "       'Yerevan', 'Pristina', 'Bratislava', 'Barcelona', 'Bilbao',\n",
       "       'Madrid', 'Stockholm', 'Bern', 'Geneva', 'Zurich', 'Kiev',\n",
       "       'Belfast', 'London', 'Belgrade', 'Manama', 'Tel Aviv', 'Amman',\n",
       "       'Kuwait', 'Beirut', 'Muscat', 'Doha', 'Dhahran', 'Riyadh',\n",
       "       'Damascus', 'Ankara', 'Istanbul', 'Abu Dhabi', 'Dubai', 'Calgary',\n",
       "       'Edmonton', 'Halifax', 'Montreal', 'Ottawa', 'Quebec', 'Regina',\n",
       "       'Toronto', 'Vancouver', 'Winnipeg', 'Guadalajara', 'Mexico City',\n",
       "       'Monterrey', 'Buenos Aires', 'Nassau', 'Hamilton', 'Belize City',\n",
       "       'La Paz', 'Bridgetown', 'Brasilia', 'Rio de Janeiro', 'Sao Paulo',\n",
       "       'Bogota', 'San Jose', 'Havana', 'Santo Domingo', 'Guayaquil',\n",
       "       'Quito', 'Guatemala City', 'Georgetown', 'Port au Prince',\n",
       "       'Tegucigalpa', 'Managua', 'Panama City', 'Lima', 'Paramaribo',\n",
       "       'Montvideo', 'Caracas', 'Birmingham', 'Huntsville', 'Mobile',\n",
       "       'Montgomery', 'Anchorage', 'Fairbanks', 'Juneau', 'Flagstaff',\n",
       "       'Phoenix', 'Tucson', 'Yuma', 'Fort Smith', 'Little Rock', 'Fresno',\n",
       "       'Los Angeles', 'Sacramento', 'San Diego', 'San Francisco',\n",
       "       'Colorado Springs', 'Denver', 'Grand Junction', 'Pueblo',\n",
       "       'Bridgeport', 'Hartford Springfield', 'Wilmington', 'Washington',\n",
       "       'Washington DC', 'Daytona Beach', 'Jacksonville', 'Miami Beach',\n",
       "       'Orlando', 'Tallahassee', 'Tampa St. Petersburg',\n",
       "       'West Palm Beach', 'Atlanta', 'Columbus', 'Macon', 'Savannah',\n",
       "       'Honolulu', 'Boise', 'Pocatello', 'Chicago', 'Peoria', 'Rockford',\n",
       "       'Springfield', 'Evansville', 'Fort Wayne', 'Indianapolis',\n",
       "       'South Bend', 'Des Moines', 'Sioux City', 'Goodland', 'Topeka',\n",
       "       'Wichita', 'Lexington', 'Louisville', 'Paducah', 'Baton Rouge',\n",
       "       'Lake Charles', 'New Orleans', 'Shreveport', 'Caribou', 'Portland',\n",
       "       'Baltimore', 'Boston', 'Detroit', 'Flint', 'Grand Rapids',\n",
       "       'Lansing', 'Sault Ste Marie', 'Duluth', 'Minneapolis St. Paul',\n",
       "       'Jackson', 'Tupelo', 'Kansas City', 'St Louis', 'Billings',\n",
       "       'Great Falls', 'Helena', 'Lincoln', 'North Platte', 'Omaha',\n",
       "       'Reno', 'Las Vegas', 'Concord', 'Atlantic City', 'Newark',\n",
       "       'Albuquerque', 'Albany', 'Buffalo', 'New York City', 'Rochester',\n",
       "       'Syracuse', 'Asheville', 'Charlotte', 'Greensboro',\n",
       "       'Raleigh Durham', 'Bismarck', 'Fargo', 'Akron Canton',\n",
       "       'Cincinnati', 'Cleveland', 'Dayton', 'Toledo', 'Youngstown',\n",
       "       'Oklahoma City', 'Tulsa', 'Eugene', 'Medford', 'Salem',\n",
       "       'Allentown', 'Erie', 'Harrisburg', 'Philadelphia', 'Pittsburgh',\n",
       "       'Wilkes Barre', 'Rhode Island', 'Charleston', 'Columbia',\n",
       "       'Rapid City', 'Sioux Falls', 'Chattanooga', 'Knoxville', 'Memphis',\n",
       "       'Nashville', 'Abilene', 'Amarillo', 'Austin', 'Brownsville',\n",
       "       'Corpus Christi', 'Dallas Ft Worth', 'El Paso', 'Houston',\n",
       "       'Lubbock', 'Midland Odessa', 'San Angelo', 'San Antonio', 'Waco',\n",
       "       'Wichita Falls', 'Salt Lake City', 'Burlington', 'Norfolk',\n",
       "       'Richmond', 'Roanoke', 'Seattle', 'Spokane', 'Yakima', 'Elkins',\n",
       "       'Green Bay', 'Madison', 'Milwaukee', 'Casper', 'Cheyenne',\n",
       "       'San Juan Puerto Rico'], dtype=object)"
      ]
     },
     "execution_count": 11,
     "metadata": {},
     "output_type": "execute_result"
    }
   ],
   "source": [
    "cities"
   ]
  },
  {
   "cell_type": "code",
   "execution_count": 54,
   "metadata": {},
   "outputs": [],
   "source": [
    "import requests\n",
    "\n",
    "url = 'http://localhost:3000/data'  # replace with your API endpoint\n",
    "\n",
    "response = requests.get(url)\n",
    "json_data = response.json()\n",
    "\n",
    "temp_data = pd.DataFrame(json_data)\n"
   ]
  },
  {
   "cell_type": "code",
   "execution_count": 55,
   "metadata": {},
   "outputs": [],
   "source": [
    "co_data=pd.read_csv('./Saif\\co2_emissions_kt_by_country.csv')\n",
    "\n"
   ]
  },
  {
   "cell_type": "code",
   "execution_count": 57,
   "metadata": {},
   "outputs": [
    {
     "name": "stderr",
     "output_type": "stream",
     "text": [
      "C:\\Users\\sali\\AppData\\Local\\Temp\\ipykernel_21180\\2854384681.py:1: DtypeWarning: Columns (2) have mixed types. Specify dtype option on import or set low_memory=False.\n",
      "  temp_data=pd.read_csv('./Saif\\city_temperature.csv')\n"
     ]
    }
   ],
   "source": [
    "\n",
    "temp_data=pd.read_csv('./Saif\\city_temperature.csv')"
   ]
  },
  {
   "cell_type": "code",
   "execution_count": 60,
   "metadata": {},
   "outputs": [],
   "source": [
    "co_data.columns=['country_code','Country',\"Year\",'Co2 Value']"
   ]
  },
  {
   "cell_type": "code",
   "execution_count": 66,
   "metadata": {},
   "outputs": [],
   "source": [
    "country_year_temp = temp_data.groupby(['Country', 'Year'])['AvgTemperature'].mean()\n",
    "country_year_df = country_year_temp.to_frame().reset_index()\n",
    "\n"
   ]
  },
  {
   "cell_type": "code",
   "execution_count": 68,
   "metadata": {},
   "outputs": [],
   "source": [
    "merged_df = pd.merge(country_year_df, co_data, on=['Country','Year'])\n"
   ]
  },
  {
   "cell_type": "code",
   "execution_count": 106,
   "metadata": {},
   "outputs": [],
   "source": [
    "merged_df.to_csv('merged_df.csv')"
   ]
  },
  {
   "cell_type": "code",
   "execution_count": 94,
   "metadata": {},
   "outputs": [
    {
     "name": "stderr",
     "output_type": "stream",
     "text": [
      "C:\\Users\\sali\\AppData\\Local\\Temp\\ipykernel_21180\\3845247846.py:1: FutureWarning: Indexing with multiple keys (implicitly converted to a tuple of keys) will be deprecated, use a list instead.\n",
      "  grouped_df=merged_df.groupby(['Country', 'Year'])['AvgTemperature','Co2 Value'].mean()\n"
     ]
    }
   ],
   "source": [
    "# grouped_df=merged_df.groupby(['Country', 'Year'])['AvgTemperature','Co2 Value'].mean()"
   ]
  },
  {
   "cell_type": "code",
   "execution_count": 102,
   "metadata": {},
   "outputs": [
    {
     "data": {
      "text/html": [
       "<div>\n",
       "<style scoped>\n",
       "    .dataframe tbody tr th:only-of-type {\n",
       "        vertical-align: middle;\n",
       "    }\n",
       "\n",
       "    .dataframe tbody tr th {\n",
       "        vertical-align: top;\n",
       "    }\n",
       "\n",
       "    .dataframe thead th {\n",
       "        text-align: right;\n",
       "    }\n",
       "</style>\n",
       "<table border=\"1\" class=\"dataframe\">\n",
       "  <thead>\n",
       "    <tr style=\"text-align: right;\">\n",
       "      <th></th>\n",
       "      <th>Country</th>\n",
       "      <th>Year</th>\n",
       "      <th>AvgTemperature</th>\n",
       "      <th>country_code</th>\n",
       "      <th>Co2 Value</th>\n",
       "    </tr>\n",
       "  </thead>\n",
       "  <tbody>\n",
       "    <tr>\n",
       "      <th>0</th>\n",
       "      <td>Albania</td>\n",
       "      <td>1995</td>\n",
       "      <td>-99.000000</td>\n",
       "      <td>ALB</td>\n",
       "      <td>1930.000000</td>\n",
       "    </tr>\n",
       "    <tr>\n",
       "      <th>1</th>\n",
       "      <td>Albania</td>\n",
       "      <td>1996</td>\n",
       "      <td>-99.000000</td>\n",
       "      <td>ALB</td>\n",
       "      <td>1940.000000</td>\n",
       "    </tr>\n",
       "    <tr>\n",
       "      <th>2</th>\n",
       "      <td>Albania</td>\n",
       "      <td>1997</td>\n",
       "      <td>-88.228767</td>\n",
       "      <td>ALB</td>\n",
       "      <td>1470.000000</td>\n",
       "    </tr>\n",
       "    <tr>\n",
       "      <th>3</th>\n",
       "      <td>Albania</td>\n",
       "      <td>1998</td>\n",
       "      <td>-46.195890</td>\n",
       "      <td>ALB</td>\n",
       "      <td>1790.000000</td>\n",
       "    </tr>\n",
       "    <tr>\n",
       "      <th>4</th>\n",
       "      <td>Albania</td>\n",
       "      <td>1999</td>\n",
       "      <td>26.696164</td>\n",
       "      <td>ALB</td>\n",
       "      <td>2970.000000</td>\n",
       "    </tr>\n",
       "    <tr>\n",
       "      <th>5</th>\n",
       "      <td>Albania</td>\n",
       "      <td>2000</td>\n",
       "      <td>54.757923</td>\n",
       "      <td>ALB</td>\n",
       "      <td>3170.000000</td>\n",
       "    </tr>\n",
       "    <tr>\n",
       "      <th>6</th>\n",
       "      <td>Albania</td>\n",
       "      <td>2001</td>\n",
       "      <td>10.750411</td>\n",
       "      <td>ALB</td>\n",
       "      <td>3230.000000</td>\n",
       "    </tr>\n",
       "    <tr>\n",
       "      <th>7</th>\n",
       "      <td>Albania</td>\n",
       "      <td>2002</td>\n",
       "      <td>41.512877</td>\n",
       "      <td>ALB</td>\n",
       "      <td>3759.999990</td>\n",
       "    </tr>\n",
       "    <tr>\n",
       "      <th>8</th>\n",
       "      <td>Albania</td>\n",
       "      <td>2003</td>\n",
       "      <td>61.872329</td>\n",
       "      <td>ALB</td>\n",
       "      <td>4070.000172</td>\n",
       "    </tr>\n",
       "    <tr>\n",
       "      <th>9</th>\n",
       "      <td>Albania</td>\n",
       "      <td>2004</td>\n",
       "      <td>61.085246</td>\n",
       "      <td>ALB</td>\n",
       "      <td>4250.000000</td>\n",
       "    </tr>\n",
       "    <tr>\n",
       "      <th>10</th>\n",
       "      <td>Albania</td>\n",
       "      <td>2005</td>\n",
       "      <td>59.935616</td>\n",
       "      <td>ALB</td>\n",
       "      <td>4030.000210</td>\n",
       "    </tr>\n",
       "    <tr>\n",
       "      <th>11</th>\n",
       "      <td>Albania</td>\n",
       "      <td>2006</td>\n",
       "      <td>58.569041</td>\n",
       "      <td>ALB</td>\n",
       "      <td>4010.000229</td>\n",
       "    </tr>\n",
       "    <tr>\n",
       "      <th>12</th>\n",
       "      <td>Albania</td>\n",
       "      <td>2007</td>\n",
       "      <td>60.890137</td>\n",
       "      <td>ALB</td>\n",
       "      <td>4139.999866</td>\n",
       "    </tr>\n",
       "    <tr>\n",
       "      <th>13</th>\n",
       "      <td>Albania</td>\n",
       "      <td>2008</td>\n",
       "      <td>59.790710</td>\n",
       "      <td>ALB</td>\n",
       "      <td>4079.999924</td>\n",
       "    </tr>\n",
       "    <tr>\n",
       "      <th>14</th>\n",
       "      <td>Albania</td>\n",
       "      <td>2009</td>\n",
       "      <td>59.401096</td>\n",
       "      <td>ALB</td>\n",
       "      <td>4219.999790</td>\n",
       "    </tr>\n",
       "    <tr>\n",
       "      <th>15</th>\n",
       "      <td>Albania</td>\n",
       "      <td>2010</td>\n",
       "      <td>60.568767</td>\n",
       "      <td>ALB</td>\n",
       "      <td>4449.999809</td>\n",
       "    </tr>\n",
       "    <tr>\n",
       "      <th>16</th>\n",
       "      <td>Albania</td>\n",
       "      <td>2011</td>\n",
       "      <td>59.918630</td>\n",
       "      <td>ALB</td>\n",
       "      <td>4849.999905</td>\n",
       "    </tr>\n",
       "    <tr>\n",
       "      <th>17</th>\n",
       "      <td>Albania</td>\n",
       "      <td>2012</td>\n",
       "      <td>59.884426</td>\n",
       "      <td>ALB</td>\n",
       "      <td>4360.000134</td>\n",
       "    </tr>\n",
       "    <tr>\n",
       "      <th>18</th>\n",
       "      <td>Albania</td>\n",
       "      <td>2013</td>\n",
       "      <td>60.413151</td>\n",
       "      <td>ALB</td>\n",
       "      <td>4440.000057</td>\n",
       "    </tr>\n",
       "    <tr>\n",
       "      <th>19</th>\n",
       "      <td>Albania</td>\n",
       "      <td>2014</td>\n",
       "      <td>60.215616</td>\n",
       "      <td>ALB</td>\n",
       "      <td>4820.000172</td>\n",
       "    </tr>\n",
       "    <tr>\n",
       "      <th>20</th>\n",
       "      <td>Albania</td>\n",
       "      <td>2015</td>\n",
       "      <td>60.090164</td>\n",
       "      <td>ALB</td>\n",
       "      <td>4619.999886</td>\n",
       "    </tr>\n",
       "    <tr>\n",
       "      <th>21</th>\n",
       "      <td>Albania</td>\n",
       "      <td>2016</td>\n",
       "      <td>58.986885</td>\n",
       "      <td>ALB</td>\n",
       "      <td>4480.000019</td>\n",
       "    </tr>\n",
       "    <tr>\n",
       "      <th>22</th>\n",
       "      <td>Albania</td>\n",
       "      <td>2017</td>\n",
       "      <td>60.384658</td>\n",
       "      <td>ALB</td>\n",
       "      <td>5139.999866</td>\n",
       "    </tr>\n",
       "    <tr>\n",
       "      <th>23</th>\n",
       "      <td>Albania</td>\n",
       "      <td>2018</td>\n",
       "      <td>59.889315</td>\n",
       "      <td>ALB</td>\n",
       "      <td>5110.000134</td>\n",
       "    </tr>\n",
       "    <tr>\n",
       "      <th>24</th>\n",
       "      <td>Albania</td>\n",
       "      <td>2019</td>\n",
       "      <td>59.467123</td>\n",
       "      <td>ALB</td>\n",
       "      <td>4829.999924</td>\n",
       "    </tr>\n",
       "  </tbody>\n",
       "</table>\n",
       "</div>"
      ],
      "text/plain": [
       "    Country  Year  AvgTemperature country_code    Co2 Value\n",
       "0   Albania  1995      -99.000000          ALB  1930.000000\n",
       "1   Albania  1996      -99.000000          ALB  1940.000000\n",
       "2   Albania  1997      -88.228767          ALB  1470.000000\n",
       "3   Albania  1998      -46.195890          ALB  1790.000000\n",
       "4   Albania  1999       26.696164          ALB  2970.000000\n",
       "5   Albania  2000       54.757923          ALB  3170.000000\n",
       "6   Albania  2001       10.750411          ALB  3230.000000\n",
       "7   Albania  2002       41.512877          ALB  3759.999990\n",
       "8   Albania  2003       61.872329          ALB  4070.000172\n",
       "9   Albania  2004       61.085246          ALB  4250.000000\n",
       "10  Albania  2005       59.935616          ALB  4030.000210\n",
       "11  Albania  2006       58.569041          ALB  4010.000229\n",
       "12  Albania  2007       60.890137          ALB  4139.999866\n",
       "13  Albania  2008       59.790710          ALB  4079.999924\n",
       "14  Albania  2009       59.401096          ALB  4219.999790\n",
       "15  Albania  2010       60.568767          ALB  4449.999809\n",
       "16  Albania  2011       59.918630          ALB  4849.999905\n",
       "17  Albania  2012       59.884426          ALB  4360.000134\n",
       "18  Albania  2013       60.413151          ALB  4440.000057\n",
       "19  Albania  2014       60.215616          ALB  4820.000172\n",
       "20  Albania  2015       60.090164          ALB  4619.999886\n",
       "21  Albania  2016       58.986885          ALB  4480.000019\n",
       "22  Albania  2017       60.384658          ALB  5139.999866\n",
       "23  Albania  2018       59.889315          ALB  5110.000134\n",
       "24  Albania  2019       59.467123          ALB  4829.999924"
      ]
     },
     "execution_count": 102,
     "metadata": {},
     "output_type": "execute_result"
    }
   ],
   "source": [
    "merged_df[merged_df['Country']=='Albania']\n",
    "\n"
   ]
  },
  {
   "cell_type": "code",
   "execution_count": 103,
   "metadata": {},
   "outputs": [],
   "source": [
    "df=merged_df[merged_df['Country']=='Albania']"
   ]
  },
  {
   "cell_type": "code",
   "execution_count": 104,
   "metadata": {},
   "outputs": [
    {
     "data": {
      "image/png": "[encoded data removed]",
      "text/plain": [
       "<Figure size 640x480 with 1 Axes>"
      ]
     },
     "metadata": {},
     "output_type": "display_data"
    }
   ],
   "source": [
    "plt.plot(df['Year'], df['AvgTemperature'], label='Average Temperature')\n",
    "plt.plot(df['Year'], df['Co2 Value'], label='CO2 Value')\n",
    "\n",
    "# Add axis labels and title\n",
    "plt.xlabel('Year')\n",
    "plt.ylabel('Average Temperature / CO2 Value')\n",
    "plt.title('Average Temperature and CO2 Values for [Country] over Time')\n",
    "# Add a legend\n",
    "plt.legend()\n",
    "# Display the plot\n",
    "plt.show()"
   ]
  },
  {
   "cell_type": "code",
   "execution_count": 107,
   "metadata": {},
   "outputs": [],
   "source": [
    "def tempCo2Plot(country):\n",
    "    df=merged_df[merged_df['Country']==country]\n",
    "    plt.plot(df['Year'], df['AvgTemperature'], label='Average Temperature')\n",
    "    plt.plot(df['Year'], df['Co2 Value'], label='CO2 Value')\n",
    "\n",
    "    # Add axis labels and title\n",
    "    plt.xlabel('Year')\n",
    "    plt.ylabel('Average Temperature / CO2 Value')\n",
    "    plt.title('Average Temperature and CO2 Values for',country,'over Time')\n",
    "    # Add a legend\n",
    "    plt.legend()\n",
    "    # Display the plot\n",
    "    plt.show()\n",
    "    \n",
    "    "
   ]
  },
  {
   "cell_type": "code",
   "execution_count": 109,
   "metadata": {},
   "outputs": [],
   "source": [
    "countryList = merged_df['Country'].unique()\n"
   ]
  },
  {
   "cell_type": "code",
   "execution_count": 112,
   "metadata": {},
   "outputs": [
    {
     "data": {
      "text/plain": [
       "array(['Albania', 'Algeria', 'Argentina', 'Australia', 'Austria',\n",
       "       'Bahrain', 'Bangladesh', 'Barbados', 'Belarus', 'Belgium',\n",
       "       'Belize', 'Benin', 'Bermuda', 'Bolivia', 'Brazil', 'Bulgaria',\n",
       "       'Burundi', 'Canada', 'Central African Republic', 'China',\n",
       "       'Colombia', 'Costa Rica', 'Croatia', 'Cuba', 'Cyprus', 'Denmark',\n",
       "       'Dominican Republic', 'Ethiopia', 'Finland', 'France', 'Gabon',\n",
       "       'Georgia', 'Germany', 'Greece', 'Guatemala', 'Guinea',\n",
       "       'Guinea-Bissau', 'Guyana', 'Haiti', 'Honduras', 'Hungary',\n",
       "       'Iceland', 'India', 'Indonesia', 'Ireland', 'Israel', 'Italy',\n",
       "       'Japan', 'Jordan', 'Kazakhstan', 'Kenya', 'Kuwait', 'Latvia',\n",
       "       'Lebanon', 'Madagascar', 'Malawi', 'Malaysia', 'Mauritania',\n",
       "       'Mexico', 'Mongolia', 'Morocco', 'Mozambique', 'Namibia', 'Nepal',\n",
       "       'New Zealand', 'Nicaragua', 'Nigeria', 'Norway', 'Oman',\n",
       "       'Pakistan', 'Panama', 'Peru', 'Philippines', 'Poland', 'Portugal',\n",
       "       'Qatar', 'Romania', 'Saudi Arabia', 'Senegal', 'Sierra Leone',\n",
       "       'Singapore', 'South Africa', 'Spain', 'Sri Lanka', 'Suriname',\n",
       "       'Sweden', 'Switzerland', 'Tajikistan', 'Tanzania', 'Thailand',\n",
       "       'Togo', 'Tunisia', 'Turkmenistan', 'Uganda', 'Ukraine',\n",
       "       'United Arab Emirates', 'United Kingdom', 'Uruguay', 'Uzbekistan',\n",
       "       'Vietnam', 'Zambia'], dtype=object)"
      ]
     },
     "execution_count": 112,
     "metadata": {},
     "output_type": "execute_result"
    }
   ],
   "source": [
    "countryList"
   ]
  },
  {
   "cell_type": "code",
   "execution_count": null,
   "metadata": {},
   "outputs": [],
   "source": [
    "tempCo2Plot('Zambia')"
   ]
  },
  {
   "cell_type": "code",
   "execution_count": 116,
   "metadata": {},
   "outputs": [
    {
     "data": {
      "text/html": [
       "<div>\n",
       "<style scoped>\n",
       "    .dataframe tbody tr th:only-of-type {\n",
       "        vertical-align: middle;\n",
       "    }\n",
       "\n",
       "    .dataframe tbody tr th {\n",
       "        vertical-align: top;\n",
       "    }\n",
       "\n",
       "    .dataframe thead th {\n",
       "        text-align: right;\n",
       "    }\n",
       "</style>\n",
       "<table border=\"1\" class=\"dataframe\">\n",
       "  <thead>\n",
       "    <tr style=\"text-align: right;\">\n",
       "      <th></th>\n",
       "      <th>Country</th>\n",
       "      <th>Year</th>\n",
       "      <th>AvgTemperature</th>\n",
       "      <th>country_code</th>\n",
       "      <th>Co2 Value</th>\n",
       "    </tr>\n",
       "  </thead>\n",
       "  <tbody>\n",
       "    <tr>\n",
       "      <th>0</th>\n",
       "      <td>Albania</td>\n",
       "      <td>1995</td>\n",
       "      <td>-99.000000</td>\n",
       "      <td>ALB</td>\n",
       "      <td>1930.000000</td>\n",
       "    </tr>\n",
       "    <tr>\n",
       "      <th>1</th>\n",
       "      <td>Albania</td>\n",
       "      <td>1996</td>\n",
       "      <td>-99.000000</td>\n",
       "      <td>ALB</td>\n",
       "      <td>1940.000000</td>\n",
       "    </tr>\n",
       "    <tr>\n",
       "      <th>2</th>\n",
       "      <td>Albania</td>\n",
       "      <td>1997</td>\n",
       "      <td>-88.228767</td>\n",
       "      <td>ALB</td>\n",
       "      <td>1470.000000</td>\n",
       "    </tr>\n",
       "    <tr>\n",
       "      <th>3</th>\n",
       "      <td>Albania</td>\n",
       "      <td>1998</td>\n",
       "      <td>-46.195890</td>\n",
       "      <td>ALB</td>\n",
       "      <td>1790.000000</td>\n",
       "    </tr>\n",
       "    <tr>\n",
       "      <th>4</th>\n",
       "      <td>Albania</td>\n",
       "      <td>1999</td>\n",
       "      <td>26.696164</td>\n",
       "      <td>ALB</td>\n",
       "      <td>2970.000000</td>\n",
       "    </tr>\n",
       "    <tr>\n",
       "      <th>...</th>\n",
       "      <td>...</td>\n",
       "      <td>...</td>\n",
       "      <td>...</td>\n",
       "      <td>...</td>\n",
       "      <td>...</td>\n",
       "    </tr>\n",
       "    <tr>\n",
       "      <th>2399</th>\n",
       "      <td>Zambia</td>\n",
       "      <td>2010</td>\n",
       "      <td>66.271781</td>\n",
       "      <td>ZMB</td>\n",
       "      <td>2660.000086</td>\n",
       "    </tr>\n",
       "    <tr>\n",
       "      <th>2400</th>\n",
       "      <td>Zambia</td>\n",
       "      <td>2011</td>\n",
       "      <td>62.468767</td>\n",
       "      <td>ZMB</td>\n",
       "      <td>3049.999952</td>\n",
       "    </tr>\n",
       "    <tr>\n",
       "      <th>2401</th>\n",
       "      <td>Zambia</td>\n",
       "      <td>2012</td>\n",
       "      <td>68.364481</td>\n",
       "      <td>ZMB</td>\n",
       "      <td>4030.000210</td>\n",
       "    </tr>\n",
       "    <tr>\n",
       "      <th>2402</th>\n",
       "      <td>Zambia</td>\n",
       "      <td>2013</td>\n",
       "      <td>31.056164</td>\n",
       "      <td>ZMB</td>\n",
       "      <td>4239.999771</td>\n",
       "    </tr>\n",
       "    <tr>\n",
       "      <th>2403</th>\n",
       "      <td>Zambia</td>\n",
       "      <td>2014</td>\n",
       "      <td>56.945455</td>\n",
       "      <td>ZMB</td>\n",
       "      <td>4690.000057</td>\n",
       "    </tr>\n",
       "  </tbody>\n",
       "</table>\n",
       "<p>2404 rows × 5 columns</p>\n",
       "</div>"
      ],
      "text/plain": [
       "      Country  Year  AvgTemperature country_code    Co2 Value\n",
       "0     Albania  1995      -99.000000          ALB  1930.000000\n",
       "1     Albania  1996      -99.000000          ALB  1940.000000\n",
       "2     Albania  1997      -88.228767          ALB  1470.000000\n",
       "3     Albania  1998      -46.195890          ALB  1790.000000\n",
       "4     Albania  1999       26.696164          ALB  2970.000000\n",
       "...       ...   ...             ...          ...          ...\n",
       "2399   Zambia  2010       66.271781          ZMB  2660.000086\n",
       "2400   Zambia  2011       62.468767          ZMB  3049.999952\n",
       "2401   Zambia  2012       68.364481          ZMB  4030.000210\n",
       "2402   Zambia  2013       31.056164          ZMB  4239.999771\n",
       "2403   Zambia  2014       56.945455          ZMB  4690.000057\n",
       "\n",
       "[2404 rows x 5 columns]"
      ]
     },
     "execution_count": 116,
     "metadata": {},
     "output_type": "execute_result"
    }
   ],
   "source": []
  },
  {
   "cell_type": "code",
   "execution_count": 117,
   "metadata": {},
   "outputs": [
    {
     "name": "stderr",
     "output_type": "stream",
     "text": [
      "C:\\Users\\sali\\AppData\\Local\\Temp\\ipykernel_21180\\182931254.py:1: FutureWarning: Indexing with multiple keys (implicitly converted to a tuple of keys) will be deprecated, use a list instead.\n",
      "  new_data = merged_df.groupby(['Country'])['AvgTemperature','Co2 Value'].mean()\n"
     ]
    }
   ],
   "source": [
    "new_data = merged_df.groupby(['Country'])['AvgTemperature','Co2 Value'].mean()\n"
   ]
  },
  {
   "cell_type": "code",
   "execution_count": 128,
   "metadata": {},
   "outputs": [
    {
     "data": {
      "text/html": [
       "<div>\n",
       "<style scoped>\n",
       "    .dataframe tbody tr th:only-of-type {\n",
       "        vertical-align: middle;\n",
       "    }\n",
       "\n",
       "    .dataframe tbody tr th {\n",
       "        vertical-align: top;\n",
       "    }\n",
       "\n",
       "    .dataframe thead th {\n",
       "        text-align: right;\n",
       "    }\n",
       "</style>\n",
       "<table border=\"1\" class=\"dataframe\">\n",
       "  <thead>\n",
       "    <tr style=\"text-align: right;\">\n",
       "      <th></th>\n",
       "      <th>index</th>\n",
       "      <th>Country</th>\n",
       "      <th>AvgTemperature</th>\n",
       "      <th>Co2 Value</th>\n",
       "    </tr>\n",
       "  </thead>\n",
       "  <tbody>\n",
       "    <tr>\n",
       "      <th>0</th>\n",
       "      <td>0</td>\n",
       "      <td>Albania</td>\n",
       "      <td>32.906225</td>\n",
       "      <td>3846.400003</td>\n",
       "    </tr>\n",
       "    <tr>\n",
       "      <th>1</th>\n",
       "      <td>1</td>\n",
       "      <td>Algeria</td>\n",
       "      <td>63.839452</td>\n",
       "      <td>111102.800049</td>\n",
       "    </tr>\n",
       "    <tr>\n",
       "      <th>2</th>\n",
       "      <td>2</td>\n",
       "      <td>Argentina</td>\n",
       "      <td>62.192001</td>\n",
       "      <td>153519.201489</td>\n",
       "    </tr>\n",
       "    <tr>\n",
       "      <th>3</th>\n",
       "      <td>3</td>\n",
       "      <td>Australia</td>\n",
       "      <td>61.530112</td>\n",
       "      <td>362877.199316</td>\n",
       "    </tr>\n",
       "    <tr>\n",
       "      <th>4</th>\n",
       "      <td>4</td>\n",
       "      <td>Austria</td>\n",
       "      <td>51.136993</td>\n",
       "      <td>67102.799872</td>\n",
       "    </tr>\n",
       "    <tr>\n",
       "      <th>...</th>\n",
       "      <td>...</td>\n",
       "      <td>...</td>\n",
       "      <td>...</td>\n",
       "      <td>...</td>\n",
       "    </tr>\n",
       "    <tr>\n",
       "      <th>96</th>\n",
       "      <td>96</td>\n",
       "      <td>United Kingdom</td>\n",
       "      <td>51.070948</td>\n",
       "      <td>482292.399707</td>\n",
       "    </tr>\n",
       "    <tr>\n",
       "      <th>97</th>\n",
       "      <td>97</td>\n",
       "      <td>Uruguay</td>\n",
       "      <td>60.859445</td>\n",
       "      <td>6189.200017</td>\n",
       "    </tr>\n",
       "    <tr>\n",
       "      <th>98</th>\n",
       "      <td>98</td>\n",
       "      <td>Uzbekistan</td>\n",
       "      <td>58.914427</td>\n",
       "      <td>115990.800562</td>\n",
       "    </tr>\n",
       "    <tr>\n",
       "      <th>99</th>\n",
       "      <td>99</td>\n",
       "      <td>Vietnam</td>\n",
       "      <td>74.796112</td>\n",
       "      <td>127070.799792</td>\n",
       "    </tr>\n",
       "    <tr>\n",
       "      <th>100</th>\n",
       "      <td>100</td>\n",
       "      <td>Zambia</td>\n",
       "      <td>55.950024</td>\n",
       "      <td>2483.499998</td>\n",
       "    </tr>\n",
       "  </tbody>\n",
       "</table>\n",
       "<p>101 rows × 4 columns</p>\n",
       "</div>"
      ],
      "text/plain": [
       "     index         Country  AvgTemperature      Co2 Value\n",
       "0        0         Albania       32.906225    3846.400003\n",
       "1        1         Algeria       63.839452  111102.800049\n",
       "2        2       Argentina       62.192001  153519.201489\n",
       "3        3       Australia       61.530112  362877.199316\n",
       "4        4         Austria       51.136993   67102.799872\n",
       "..     ...             ...             ...            ...\n",
       "96      96  United Kingdom       51.070948  482292.399707\n",
       "97      97         Uruguay       60.859445    6189.200017\n",
       "98      98      Uzbekistan       58.914427  115990.800562\n",
       "99      99         Vietnam       74.796112  127070.799792\n",
       "100    100          Zambia       55.950024    2483.499998\n",
       "\n",
       "[101 rows x 4 columns]"
      ]
     },
     "execution_count": 128,
     "metadata": {},
     "output_type": "execute_result"
    }
   ],
   "source": [
    "new_data = new_data.reset_index()\n",
    "new_data"
   ]
  },
  {
   "cell_type": "code",
   "execution_count": 144,
   "metadata": {},
   "outputs": [],
   "source": [
    "def plot(new_data):\n",
    "    x=50\n",
    "    feature1 =new_data['Country'].iloc[:x]\n",
    "    feature2 =new_data['AvgTemperature'].iloc[:x]*1000\n",
    "    feature3 =new_data['Co2 Value'].iloc[:x]\n",
    "\n",
    "    \n",
    "    barWidth = 0.3\n",
    "    plt.figure(figsize=(30,10))\n",
    "    r1 = np.arange(len(feature1))\n",
    "    r2 = [x + barWidth for x in r1]\n",
    "    r3 = [x + barWidth for x in r2]\n",
    "    plt.title('CO2 VALUES AND TEMPERATURES')\n",
    "    plt.bar(r1, feature2, color='red', width=barWidth, edgecolor='white', label='Temperature')\n",
    "    plt.bar(r2, feature3, color='blue', width=barWidth, edgecolor='white', label='CO2')\n",
    "    plt.xlabel('Countries')\n",
    "    plt.ylabel('co2values/temperature')\n",
    "    plt.xticks([r + 2 * barWidth for r in range(len(feature1))], feature1, rotation=45)\n",
    "    plt.legend()\n",
    "\n",
    "    plt.show()\n"
   ]
  },
  {
   "cell_type": "code",
   "execution_count": 145,
   "metadata": {},
   "outputs": [
    {
     "data": {
      "image/png": "[encoded data removed]",
      "text/plain": [
       "<Figure size 3000x1000 with 1 Axes>"
      ]
     },
     "metadata": {},
     "output_type": "display_data"
    }
   ],
   "source": [
    "plot(new_data)"
   ]
  },
  {
   "cell_type": "code",
   "execution_count": 146,
   "metadata": {},
   "outputs": [
    {
     "data": {
      "image/png": "[encoded data removed]",
      "text/plain": [
       "<Figure size 640x480 with 1 Axes>"
      ]
     },
     "metadata": {},
     "output_type": "display_data"
    }
   ],
   "source": [
    "outliers1 = plt.boxplot(new_data['Co2 Value']).get('fliers')[0].get_data()[1]"
   ]
  },
  {
   "cell_type": "code",
   "execution_count": 147,
   "metadata": {},
   "outputs": [
    {
     "data": {
      "text/plain": [
       "array([ 362877.19931641,  369453.59760742,  532741.20195312,\n",
       "       6736641.1703125 ,  349758.79853516,  792935.20214844,\n",
       "       1469935.19970703,  386816.80126953,  403659.19814453,\n",
       "       1179945.18828125,  423389.19775391,  307941.59951172,\n",
       "        377636.80170898,  374527.20141602,  281282.39892578,\n",
       "        278304.40112305,  482292.39970703])"
      ]
     },
     "execution_count": 147,
     "metadata": {},
     "output_type": "execute_result"
    }
   ],
   "source": [
    "outliers1"
   ]
  },
  {
   "cell_type": "code",
   "execution_count": 163,
   "metadata": {},
   "outputs": [
    {
     "data": {
      "text/plain": [
       "array([-62.95332186,   1.2424586 , -22.02320199, -18.46371597,\n",
       "        -9.83424239])"
      ]
     },
     "execution_count": 163,
     "metadata": {},
     "output_type": "execute_result"
    },
    {
     "data": {
      "image/png": "[encoded data removed]",
      "text/plain": [
       "<Figure size 640x480 with 1 Axes>"
      ]
     },
     "metadata": {},
     "output_type": "display_data"
    }
   ],
   "source": [
    "outliers2=plt.boxplot(new_data['AvgTemperature']).get('fliers')[0].get_data()[1]\n",
    "outliers2"
   ]
  },
  {
   "cell_type": "code",
   "execution_count": 164,
   "metadata": {},
   "outputs": [
    {
     "data": {
      "text/html": [
       "<div>\n",
       "<style scoped>\n",
       "    .dataframe tbody tr th:only-of-type {\n",
       "        vertical-align: middle;\n",
       "    }\n",
       "\n",
       "    .dataframe tbody tr th {\n",
       "        vertical-align: top;\n",
       "    }\n",
       "\n",
       "    .dataframe thead th {\n",
       "        text-align: right;\n",
       "    }\n",
       "</style>\n",
       "<table border=\"1\" class=\"dataframe\">\n",
       "  <thead>\n",
       "    <tr style=\"text-align: right;\">\n",
       "      <th></th>\n",
       "      <th>index</th>\n",
       "      <th>Country</th>\n",
       "      <th>AvgTemperature</th>\n",
       "      <th>Co2 Value</th>\n",
       "    </tr>\n",
       "  </thead>\n",
       "  <tbody>\n",
       "    <tr>\n",
       "      <th>16</th>\n",
       "      <td>16</td>\n",
       "      <td>Burundi</td>\n",
       "      <td>-62.953322</td>\n",
       "      <td>1.969231e+02</td>\n",
       "    </tr>\n",
       "    <tr>\n",
       "      <th>18</th>\n",
       "      <td>18</td>\n",
       "      <td>Central African Republic</td>\n",
       "      <td>66.807165</td>\n",
       "      <td>2.040000e+02</td>\n",
       "    </tr>\n",
       "    <tr>\n",
       "      <th>36</th>\n",
       "      <td>36</td>\n",
       "      <td>Guinea-Bissau</td>\n",
       "      <td>1.242459</td>\n",
       "      <td>2.268000e+02</td>\n",
       "    </tr>\n",
       "    <tr>\n",
       "      <th>79</th>\n",
       "      <td>79</td>\n",
       "      <td>Sierra Leone</td>\n",
       "      <td>-9.834242</td>\n",
       "      <td>4.388235e+02</td>\n",
       "    </tr>\n",
       "    <tr>\n",
       "      <th>10</th>\n",
       "      <td>10</td>\n",
       "      <td>Belize</td>\n",
       "      <td>73.340336</td>\n",
       "      <td>5.656000e+02</td>\n",
       "    </tr>\n",
       "    <tr>\n",
       "      <th>...</th>\n",
       "      <td>...</td>\n",
       "      <td>...</td>\n",
       "      <td>...</td>\n",
       "      <td>...</td>\n",
       "    </tr>\n",
       "    <tr>\n",
       "      <th>17</th>\n",
       "      <td>17</td>\n",
       "      <td>Canada</td>\n",
       "      <td>41.314679</td>\n",
       "      <td>5.327412e+05</td>\n",
       "    </tr>\n",
       "    <tr>\n",
       "      <th>32</th>\n",
       "      <td>32</td>\n",
       "      <td>Germany</td>\n",
       "      <td>18.267287</td>\n",
       "      <td>7.929352e+05</td>\n",
       "    </tr>\n",
       "    <tr>\n",
       "      <th>47</th>\n",
       "      <td>47</td>\n",
       "      <td>Japan</td>\n",
       "      <td>55.991252</td>\n",
       "      <td>1.179945e+06</td>\n",
       "    </tr>\n",
       "    <tr>\n",
       "      <th>42</th>\n",
       "      <td>42</td>\n",
       "      <td>India</td>\n",
       "      <td>79.794460</td>\n",
       "      <td>1.469935e+06</td>\n",
       "    </tr>\n",
       "    <tr>\n",
       "      <th>19</th>\n",
       "      <td>19</td>\n",
       "      <td>China</td>\n",
       "      <td>60.097794</td>\n",
       "      <td>6.736641e+06</td>\n",
       "    </tr>\n",
       "  </tbody>\n",
       "</table>\n",
       "<p>101 rows × 4 columns</p>\n",
       "</div>"
      ],
      "text/plain": [
       "    index                   Country  AvgTemperature     Co2 Value\n",
       "16     16                   Burundi      -62.953322  1.969231e+02\n",
       "18     18  Central African Republic       66.807165  2.040000e+02\n",
       "36     36             Guinea-Bissau        1.242459  2.268000e+02\n",
       "79     79              Sierra Leone       -9.834242  4.388235e+02\n",
       "10     10                    Belize       73.340336  5.656000e+02\n",
       "..    ...                       ...             ...           ...\n",
       "17     17                    Canada       41.314679  5.327412e+05\n",
       "32     32                   Germany       18.267287  7.929352e+05\n",
       "47     47                     Japan       55.991252  1.179945e+06\n",
       "42     42                     India       79.794460  1.469935e+06\n",
       "19     19                     China       60.097794  6.736641e+06\n",
       "\n",
       "[101 rows x 4 columns]"
      ]
     },
     "execution_count": 164,
     "metadata": {},
     "output_type": "execute_result"
    }
   ],
   "source": [
    "df_sorted = new_data.sort_values('Co2 Value')\n",
    "df_sorted"
   ]
  },
  {
   "cell_type": "code",
   "execution_count": 158,
   "metadata": {},
   "outputs": [
    {
     "data": {
      "image/png": "[encoded data removed]",
      "text/plain": [
       "<Figure size 640x480 with 1 Axes>"
      ]
     },
     "metadata": {},
     "output_type": "display_data"
    }
   ],
   "source": [
    "x=new_data['AvgTemperature']\n",
    "y=new_data['Co2 Value']\n",
    "plt.title('corr')\n",
    "plt.scatter(x,y)\n",
    "plt.plot(np.unique(x), np.poly1d(np.polyfit(x, y, 1))\n",
    "         (np.unique(x)), color='green')\n",
    "plt.xlabel(\"Temperature\")\n",
    "plt.ylabel('CO2 Value')    \n",
    "plt.show()"
   ]
  },
  {
   "cell_type": "code",
   "execution_count": null,
   "metadata": {},
   "outputs": [],
   "source": [
    "getYearWise()"
   ]
  }
 ],
 "metadata": {
  "kernelspec": {
   "display_name": "Python 3",
   "language": "python",
   "name": "python3"
  },
  "language_info": {
   "codemirror_mode": {
    "name": "ipython",
    "version": 3
   },
   "file_extension": ".py",
   "mimetype": "text/x-python",
   "name": "python",
   "nbconvert_exporter": "python",
   "pygments_lexer": "ipython3",
   "version": "3.9.0"
  },
  "orig_nbformat": 4
 },
 "nbformat": 4,
 "nbformat_minor": 2
}
